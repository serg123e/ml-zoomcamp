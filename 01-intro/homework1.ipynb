{
 "cells": [
  {
   "cell_type": "code",
   "execution_count": 82,
   "id": "ed553599-9462-44c9-9e24-324500224c49",
   "metadata": {},
   "outputs": [],
   "source": [
    "import numpy as np"
   ]
  },
  {
   "cell_type": "code",
   "execution_count": 1,
   "id": "c3ebd169-0a8a-4a53-a9bf-819705148618",
   "metadata": {},
   "outputs": [
    {
     "data": {
      "text/plain": [
       "'2.2.2'"
      ]
     },
     "execution_count": 1,
     "metadata": {},
     "output_type": "execute_result"
    }
   ],
   "source": [
    "import pandas as pd \n",
    "pd.__version__"
   ]
  },
  {
   "cell_type": "code",
   "execution_count": 2,
   "id": "4bf07b58-d3a6-4452-8f35-a6656b522e88",
   "metadata": {},
   "outputs": [
    {
     "name": "stdout",
     "output_type": "stream",
     "text": [
      "--2024-09-23 20:58:45--  https://raw.githubusercontent.com/alexeygrigorev/datasets/master/laptops.csv\n",
      "Resolving raw.githubusercontent.com (raw.githubusercontent.com)... 185.199.108.133, 185.199.110.133, 185.199.111.133, ...\n",
      "Connecting to raw.githubusercontent.com (raw.githubusercontent.com)|185.199.108.133|:443... connected.\n",
      "HTTP request sent, awaiting response... 200 OK\n",
      "Length: 298573 (292K) [text/plain]\n",
      "Saving to: ‘laptops.csv.2’\n",
      "\n",
      "laptops.csv.2       100%[===================>] 291,58K  --.-KB/s    in 0,06s   \n",
      "\n",
      "2024-09-23 20:58:45 (5,07 MB/s) - ‘laptops.csv.2’ saved [298573/298573]\n",
      "\n"
     ]
    }
   ],
   "source": [
    "!wget https://raw.githubusercontent.com/alexeygrigorev/datasets/master/laptops.csv"
   ]
  },
  {
   "cell_type": "code",
   "execution_count": 50,
   "id": "022b076c-b312-40d9-877b-d7789fb4860a",
   "metadata": {},
   "outputs": [],
   "source": [
    "df = pd.read_csv('laptops.csv')"
   ]
  },
  {
   "cell_type": "code",
   "execution_count": 51,
   "id": "949f7768-da05-4283-87a0-2f72cf4f2187",
   "metadata": {},
   "outputs": [
    {
     "data": {
      "text/plain": [
       "2160"
      ]
     },
     "execution_count": 51,
     "metadata": {},
     "output_type": "execute_result"
    }
   ],
   "source": [
    "df.shape[0]"
   ]
  },
  {
   "cell_type": "code",
   "execution_count": 52,
   "id": "b01d2163-3f3e-4c9a-91f8-055535cc3891",
   "metadata": {},
   "outputs": [
    {
     "data": {
      "text/plain": [
       "27"
      ]
     },
     "execution_count": 52,
     "metadata": {},
     "output_type": "execute_result"
    }
   ],
   "source": [
    "len(df[\"Brand\"].unique())"
   ]
  },
  {
   "cell_type": "code",
   "execution_count": 53,
   "id": "87e7123f-2214-4497-a43c-d7dbc3b68a9b",
   "metadata": {},
   "outputs": [
    {
     "data": {
      "text/plain": [
       "3"
      ]
     },
     "execution_count": 53,
     "metadata": {},
     "output_type": "execute_result"
    }
   ],
   "source": [
    "df.isnull().any().sum()"
   ]
  },
  {
   "cell_type": "code",
   "execution_count": null,
   "id": "9913a0b3-7f9f-453c-aa23-6b6814b80d75",
   "metadata": {},
   "outputs": [],
   "source": []
  },
  {
   "cell_type": "code",
   "execution_count": 54,
   "id": "0b749d8d-a7e2-43c8-919b-ae58c4865b45",
   "metadata": {},
   "outputs": [
    {
     "name": "stdout",
     "output_type": "stream",
     "text": [
      "Number of columns with missing values: 3\n"
     ]
    }
   ],
   "source": [
    "num_missing_columns = df.isnull().sum()[df.isnull().sum() > 0].count()\n",
    "print(f'Number of columns with missing values: {num_missing_columns}')"
   ]
  },
  {
   "cell_type": "code",
   "execution_count": 62,
   "id": "a95a3a93-162b-4a7c-9a21-8696323c0b01",
   "metadata": {},
   "outputs": [
    {
     "name": "stdout",
     "output_type": "stream",
     "text": [
      "Q5: Dell max final price 3936.0\n"
     ]
    }
   ],
   "source": [
    "max_final_price = df[df[\"Brand\"]==\"Dell\"][\"Final Price\"].max()\n",
    "print(f\"Q5: Dell max final price {max_final_price}\")"
   ]
  },
  {
   "cell_type": "code",
   "execution_count": 56,
   "id": "76c6493e-b5fa-4baf-936a-06ffcd07dd88",
   "metadata": {},
   "outputs": [
    {
     "data": {
      "text/plain": [
       "15.6"
      ]
     },
     "execution_count": 56,
     "metadata": {},
     "output_type": "execute_result"
    }
   ],
   "source": [
    "median_screen = df[\"Screen\"].median()"
   ]
  },
  {
   "cell_type": "code",
   "execution_count": 58,
   "id": "931890f3-8955-42d5-8b06-04351f79b231",
   "metadata": {},
   "outputs": [
    {
     "data": {
      "text/plain": [
       "15.6"
      ]
     },
     "execution_count": 58,
     "metadata": {},
     "output_type": "execute_result"
    }
   ],
   "source": [
    "most_frequent_screen = df[\"Screen\"].mode()[0]"
   ]
  },
  {
   "cell_type": "code",
   "execution_count": 47,
   "id": "45ff7b4d-d50b-40ab-bdee-1963264513e4",
   "metadata": {},
   "outputs": [],
   "source": [
    "df.fillna(value = most_frequent_screen, inplace = True)"
   ]
  },
  {
   "cell_type": "code",
   "execution_count": 59,
   "id": "5dc3e085-a562-4db1-9c8d-cbee4430a7c4",
   "metadata": {},
   "outputs": [
    {
     "data": {
      "text/plain": [
       "15.6"
      ]
     },
     "execution_count": 59,
     "metadata": {},
     "output_type": "execute_result"
    }
   ],
   "source": [
    "most_frequent_screen_after_fillna = df[\"Screen\"].mode()[0]"
   ]
  },
  {
   "cell_type": "code",
   "execution_count": 61,
   "id": "ede859e7-c147-407f-b973-4bfb4b0035e7",
   "metadata": {},
   "outputs": [
    {
     "name": "stdout",
     "output_type": "stream",
     "text": [
      "Q6: Is it changed? False\n"
     ]
    }
   ],
   "source": [
    "print(f\"Q6: Is it changed? {most_frequent_screen != most_frequent_screen_after_fillna}\")"
   ]
  },
  {
   "cell_type": "code",
   "execution_count": 73,
   "id": "7e2d7873-f25a-4d94-831d-7868cf797c2c",
   "metadata": {},
   "outputs": [],
   "source": [
    "# 1.    Select all the \"Innjoo\" laptops from the dataset.\n",
    "df_innjoo = df[df[\"Brand\"]==\"Innjoo\"]"
   ]
  },
  {
   "cell_type": "markdown",
   "id": "51afb305-dfc5-442b-aad6-d488cdad7db8",
   "metadata": {},
   "source": []
  },
  {
   "cell_type": "code",
   "execution_count": 94,
   "id": "8d6bfcff-41d7-4a6c-b76a-94123d65ef89",
   "metadata": {},
   "outputs": [],
   "source": [
    "# 2.    Select only columns RAM, Storage, Screen.\n",
    "data = df_innjoo[[\"RAM\", \"Storage\", \"Screen\"]]"
   ]
  },
  {
   "cell_type": "code",
   "execution_count": 95,
   "id": "c3b93aa6-0ecd-4564-aec8-0dfed827cfdf",
   "metadata": {},
   "outputs": [],
   "source": [
    "# 3.    Get the underlying NumPy array. Let's call it X.\n",
    "X = np.array(data)"
   ]
  },
  {
   "cell_type": "code",
   "execution_count": 96,
   "id": "ae015120-ae83-4a32-8474-bf9cd84329dc",
   "metadata": {},
   "outputs": [],
   "source": [
    "# 4.    Compute matrix-matrix multiplication between the transpose of X and X. To get the transpose, use X.T. Let's call the result XTX.\n",
    "XTX = X.T.dot(X)"
   ]
  },
  {
   "cell_type": "code",
   "execution_count": 97,
   "id": "6649a8dd-9561-43ec-a148-03d34e86f3cc",
   "metadata": {},
   "outputs": [],
   "source": [
    "# 5.    Compute the inverse of XTX.\n",
    "XTX_inverse = np.linalg.inv(XTX)"
   ]
  },
  {
   "cell_type": "code",
   "execution_count": 98,
   "id": "08503a25-43fc-4b55-8bcb-2ee022da9506",
   "metadata": {},
   "outputs": [],
   "source": [
    "# 6.    Create an array y with values [1100, 1300, 800, 900, 1000, 1100].\n",
    "y = np.array([1100, 1300, 800, 900, 1000, 1100])"
   ]
  },
  {
   "cell_type": "code",
   "execution_count": 99,
   "id": "564b35cc-68a1-417f-bf2e-9c946e0aa146",
   "metadata": {},
   "outputs": [
    {
     "data": {
      "text/plain": [
       "array([45.58076606,  0.42783519, 45.29127938])"
      ]
     },
     "execution_count": 99,
     "metadata": {},
     "output_type": "execute_result"
    }
   ],
   "source": [
    "# 7.    Multiply the inverse of XTX with the transpose of X, and then multiply the result by y. Call the result w.\n",
    "w = XTX_inverse.dot(X.T).dot(y)\n",
    "w"
   ]
  },
  {
   "cell_type": "code",
   "execution_count": 100,
   "id": "f648338b-55ca-4ec0-9978-f0e6df3605d8",
   "metadata": {},
   "outputs": [
    {
     "name": "stdout",
     "output_type": "stream",
     "text": [
      "Sum of all elements in w: 91.29988062995815\n"
     ]
    }
   ],
   "source": [
    "# 8.    What's the sum of all the elements of the result?\n",
    "\n",
    "sum_w = w.sum()\n",
    "\n",
    "print(f'Sum of all elements in w: {sum_w}')\n"
   ]
  },
  {
   "cell_type": "code",
   "execution_count": null,
   "id": "026419b0-cf64-4d25-a614-9f561a4d31ce",
   "metadata": {},
   "outputs": [],
   "source": []
  }
 ],
 "metadata": {
  "kernelspec": {
   "display_name": "Python 3 (ipykernel)",
   "language": "python",
   "name": "python3"
  },
  "language_info": {
   "codemirror_mode": {
    "name": "ipython",
    "version": 3
   },
   "file_extension": ".py",
   "mimetype": "text/x-python",
   "name": "python",
   "nbconvert_exporter": "python",
   "pygments_lexer": "ipython3",
   "version": "3.11.9"
  }
 },
 "nbformat": 4,
 "nbformat_minor": 5
}
